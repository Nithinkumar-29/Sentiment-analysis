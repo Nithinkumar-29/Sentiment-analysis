{
 "cells": [
  {
   "cell_type": "code",
   "execution_count": 87,
   "id": "c81d64b9",
   "metadata": {},
   "outputs": [],
   "source": [
    "import pandas as pd\n",
    "import numpy as np"
   ]
  },
  {
   "cell_type": "code",
   "execution_count": 88,
   "id": "2bce2845",
   "metadata": {},
   "outputs": [
    {
     "data": {
      "text/html": [
       "<div>\n",
       "<style scoped>\n",
       "    .dataframe tbody tr th:only-of-type {\n",
       "        vertical-align: middle;\n",
       "    }\n",
       "\n",
       "    .dataframe tbody tr th {\n",
       "        vertical-align: top;\n",
       "    }\n",
       "\n",
       "    .dataframe thead th {\n",
       "        text-align: right;\n",
       "    }\n",
       "</style>\n",
       "<table border=\"1\" class=\"dataframe\">\n",
       "  <thead>\n",
       "    <tr style=\"text-align: right;\">\n",
       "      <th></th>\n",
       "      <th>text</th>\n",
       "      <th>emotion</th>\n",
       "    </tr>\n",
       "  </thead>\n",
       "  <tbody>\n",
       "    <tr>\n",
       "      <th>0</th>\n",
       "      <td>That game hurt.</td>\n",
       "      <td>sadness</td>\n",
       "    </tr>\n",
       "    <tr>\n",
       "      <th>1</th>\n",
       "      <td>You do right, if you don't care then fuck 'em!</td>\n",
       "      <td>neutral</td>\n",
       "    </tr>\n",
       "    <tr>\n",
       "      <th>2</th>\n",
       "      <td>Man I love reddit.</td>\n",
       "      <td>love</td>\n",
       "    </tr>\n",
       "    <tr>\n",
       "      <th>3</th>\n",
       "      <td>[NAME] was nowhere near them, he was by the Fa...</td>\n",
       "      <td>neutral</td>\n",
       "    </tr>\n",
       "    <tr>\n",
       "      <th>4</th>\n",
       "      <td>Right? Considering it’s such an important docu...</td>\n",
       "      <td>gratitude</td>\n",
       "    </tr>\n",
       "    <tr>\n",
       "      <th>...</th>\n",
       "      <td>...</td>\n",
       "      <td>...</td>\n",
       "    </tr>\n",
       "    <tr>\n",
       "      <th>207809</th>\n",
       "      <td>Well, I'm glad you're out of all that now. How...</td>\n",
       "      <td>joy</td>\n",
       "    </tr>\n",
       "    <tr>\n",
       "      <th>207810</th>\n",
       "      <td>Everyone likes [NAME].</td>\n",
       "      <td>love</td>\n",
       "    </tr>\n",
       "    <tr>\n",
       "      <th>207811</th>\n",
       "      <td>Well when you’ve imported about a gazillion of...</td>\n",
       "      <td>caring</td>\n",
       "    </tr>\n",
       "    <tr>\n",
       "      <th>207812</th>\n",
       "      <td>That looks amazing</td>\n",
       "      <td>admiration</td>\n",
       "    </tr>\n",
       "    <tr>\n",
       "      <th>207813</th>\n",
       "      <td>The FDA has plenty to criticize. But like here...</td>\n",
       "      <td>anger</td>\n",
       "    </tr>\n",
       "  </tbody>\n",
       "</table>\n",
       "<p>207814 rows × 2 columns</p>\n",
       "</div>"
      ],
      "text/plain": [
       "                                                     text     emotion\n",
       "0                                         That game hurt.     sadness\n",
       "1          You do right, if you don't care then fuck 'em!     neutral\n",
       "2                                      Man I love reddit.        love\n",
       "3       [NAME] was nowhere near them, he was by the Fa...     neutral\n",
       "4       Right? Considering it’s such an important docu...   gratitude\n",
       "...                                                   ...         ...\n",
       "207809  Well, I'm glad you're out of all that now. How...         joy\n",
       "207810                             Everyone likes [NAME].        love\n",
       "207811  Well when you’ve imported about a gazillion of...      caring\n",
       "207812                                 That looks amazing  admiration\n",
       "207813  The FDA has plenty to criticize. But like here...       anger\n",
       "\n",
       "[207814 rows x 2 columns]"
      ]
     },
     "execution_count": 88,
     "metadata": {},
     "output_type": "execute_result"
    }
   ],
   "source": [
    "df = pd.read_csv(\"subdata.csv\")\n",
    "df"
   ]
  },
  {
   "cell_type": "code",
   "execution_count": 89,
   "id": "27357b4c",
   "metadata": {},
   "outputs": [
    {
     "data": {
      "text/plain": [
       "text       0\n",
       "emotion    0\n",
       "dtype: int64"
      ]
     },
     "execution_count": 89,
     "metadata": {},
     "output_type": "execute_result"
    }
   ],
   "source": [
    "df.isna().sum()"
   ]
  },
  {
   "cell_type": "code",
   "execution_count": 90,
   "id": "dd2032ee",
   "metadata": {},
   "outputs": [
    {
     "data": {
      "text/plain": [
       "text       0\n",
       "emotion    0\n",
       "dtype: int64"
      ]
     },
     "execution_count": 90,
     "metadata": {},
     "output_type": "execute_result"
    }
   ],
   "source": [
    "df.isnull().sum()"
   ]
  },
  {
   "cell_type": "code",
   "execution_count": 91,
   "id": "e431e2b3",
   "metadata": {},
   "outputs": [
    {
     "data": {
      "text/plain": [
       "neutral           55298\n",
       "approval          12844\n",
       "admiration        10531\n",
       "disapproval        9867\n",
       "gratitude          9805\n",
       "annoyance          9632\n",
       "realization        8175\n",
       "optimism           7947\n",
       "love               7622\n",
       "curiosity          7541\n",
       "joy                6778\n",
       "sadness            6691\n",
       "amusement          6408\n",
       "disappointment     5919\n",
       "confusion          5553\n",
       "surprise           5514\n",
       "anger              5288\n",
       "disgust            4538\n",
       "caring             4136\n",
       "excitement         3909\n",
       "desire             2747\n",
       "remorse            2305\n",
       "fear               2299\n",
       "embarrassment      1981\n",
       "nervousness        1529\n",
       "relief             1249\n",
       "pride              1241\n",
       "grief               467\n",
       "Name: emotion, dtype: int64"
      ]
     },
     "execution_count": 91,
     "metadata": {},
     "output_type": "execute_result"
    }
   ],
   "source": [
    "df['emotion'].value_counts()"
   ]
  },
  {
   "cell_type": "code",
   "execution_count": 92,
   "id": "fe20524c",
   "metadata": {},
   "outputs": [
    {
     "data": {
      "text/plain": [
       "neutral        55298\n",
       "admiration     10531\n",
       "gratitude       9805\n",
       "realization     8175\n",
       "optimism        7947\n",
       "love            7622\n",
       "curiosity       7541\n",
       "joy             6778\n",
       "sadness         6691\n",
       "amusement       6408\n",
       "surprise        5514\n",
       "anger           5288\n",
       "excitement      3909\n",
       "remorse         2305\n",
       "fear            2299\n",
       "Name: emotion, dtype: int64"
      ]
     },
     "execution_count": 92,
     "metadata": {},
     "output_type": "execute_result"
    }
   ],
   "source": [
    "remove_emotion = ['approval','disapproval','annoyance','confusion','caring','desire','embarrassment','nervousness','relief','pride','grief','disappointment','disgust']\n",
    "for i in remove_emotion:\n",
    "    df[df['emotion']==i]=None\n",
    "df = df.dropna()\n",
    "df['emotion'].value_counts()"
   ]
  },
  {
   "cell_type": "code",
   "execution_count": 93,
   "id": "d0abba11",
   "metadata": {},
   "outputs": [
    {
     "data": {
      "text/plain": [
       "sadness        2299\n",
       "neutral        2299\n",
       "love           2299\n",
       "gratitude      2299\n",
       "amusement      2299\n",
       "realization    2299\n",
       "admiration     2299\n",
       "optimism       2299\n",
       "excitement     2299\n",
       "remorse        2299\n",
       "curiosity      2299\n",
       "joy            2299\n",
       "surprise       2299\n",
       "anger          2299\n",
       "fear           2299\n",
       "Name: emotion, dtype: int64"
      ]
     },
     "execution_count": 93,
     "metadata": {},
     "output_type": "execute_result"
    }
   ],
   "source": [
    "l = df['emotion'].unique()\n",
    "new_df = pd.DataFrame()\n",
    "for i in l:\n",
    "    temp = df[df['emotion']==i].sample(n=2299,random_state=42)\n",
    "    new_df = pd.concat([new_df,temp],axis=0)\n",
    "new_df['emotion'].value_counts()"
   ]
  },
  {
   "cell_type": "code",
   "execution_count": 94,
   "id": "f7533887",
   "metadata": {},
   "outputs": [
    {
     "data": {
      "text/html": [
       "<div>\n",
       "<style scoped>\n",
       "    .dataframe tbody tr th:only-of-type {\n",
       "        vertical-align: middle;\n",
       "    }\n",
       "\n",
       "    .dataframe tbody tr th {\n",
       "        vertical-align: top;\n",
       "    }\n",
       "\n",
       "    .dataframe thead th {\n",
       "        text-align: right;\n",
       "    }\n",
       "</style>\n",
       "<table border=\"1\" class=\"dataframe\">\n",
       "  <thead>\n",
       "    <tr style=\"text-align: right;\">\n",
       "      <th></th>\n",
       "      <th>text</th>\n",
       "      <th>emotion</th>\n",
       "    </tr>\n",
       "  </thead>\n",
       "  <tbody>\n",
       "    <tr>\n",
       "      <th>7551</th>\n",
       "      <td>True. You always gotta be careful. It's pretty...</td>\n",
       "      <td>sadness</td>\n",
       "    </tr>\n",
       "    <tr>\n",
       "      <th>106980</th>\n",
       "      <td>She might just be bitter over her own relation...</td>\n",
       "      <td>sadness</td>\n",
       "    </tr>\n",
       "    <tr>\n",
       "      <th>189674</th>\n",
       "      <td>&gt;he definitely doesn't value my pleasure this ...</td>\n",
       "      <td>sadness</td>\n",
       "    </tr>\n",
       "    <tr>\n",
       "      <th>92291</th>\n",
       "      <td>You lost everything. So sad. Lots of lies from...</td>\n",
       "      <td>sadness</td>\n",
       "    </tr>\n",
       "    <tr>\n",
       "      <th>148768</th>\n",
       "      <td>we can only hope</td>\n",
       "      <td>sadness</td>\n",
       "    </tr>\n",
       "    <tr>\n",
       "      <th>...</th>\n",
       "      <td>...</td>\n",
       "      <td>...</td>\n",
       "    </tr>\n",
       "    <tr>\n",
       "      <th>146768</th>\n",
       "      <td>I was petrified...</td>\n",
       "      <td>fear</td>\n",
       "    </tr>\n",
       "    <tr>\n",
       "      <th>97455</th>\n",
       "      <td>That sounds like it was an absolute nightmare,...</td>\n",
       "      <td>fear</td>\n",
       "    </tr>\n",
       "    <tr>\n",
       "      <th>100137</th>\n",
       "      <td>I feel like I got lured into a fever dream by ...</td>\n",
       "      <td>fear</td>\n",
       "    </tr>\n",
       "    <tr>\n",
       "      <th>114546</th>\n",
       "      <td>Well she mostly horrible when she was drunk, s...</td>\n",
       "      <td>fear</td>\n",
       "    </tr>\n",
       "    <tr>\n",
       "      <th>78658</th>\n",
       "      <td>They start as needy creeps and work their way ...</td>\n",
       "      <td>fear</td>\n",
       "    </tr>\n",
       "  </tbody>\n",
       "</table>\n",
       "<p>34485 rows × 2 columns</p>\n",
       "</div>"
      ],
      "text/plain": [
       "                                                     text  emotion\n",
       "7551    True. You always gotta be careful. It's pretty...  sadness\n",
       "106980  She might just be bitter over her own relation...  sadness\n",
       "189674  >he definitely doesn't value my pleasure this ...  sadness\n",
       "92291   You lost everything. So sad. Lots of lies from...  sadness\n",
       "148768                                   we can only hope  sadness\n",
       "...                                                   ...      ...\n",
       "146768                                 I was petrified...     fear\n",
       "97455   That sounds like it was an absolute nightmare,...     fear\n",
       "100137  I feel like I got lured into a fever dream by ...     fear\n",
       "114546  Well she mostly horrible when she was drunk, s...     fear\n",
       "78658   They start as needy creeps and work their way ...     fear\n",
       "\n",
       "[34485 rows x 2 columns]"
      ]
     },
     "execution_count": 94,
     "metadata": {},
     "output_type": "execute_result"
    }
   ],
   "source": [
    "new_df"
   ]
  },
  {
   "cell_type": "code",
   "execution_count": 95,
   "id": "fefac289",
   "metadata": {},
   "outputs": [],
   "source": [
    "X = new_df['text']\n",
    "y = new_df['emotion']"
   ]
  },
  {
   "cell_type": "code",
   "execution_count": 96,
   "id": "17e51ca7",
   "metadata": {},
   "outputs": [],
   "source": [
    "from sklearn.model_selection import train_test_split\n",
    "X_train, X_test, y_train, y_test = train_test_split(X, y, test_size=0.33, random_state=42)"
   ]
  },
  {
   "cell_type": "code",
   "execution_count": 97,
   "id": "ef78b48b",
   "metadata": {},
   "outputs": [],
   "source": [
    "from sklearn.feature_extraction.text import TfidfVectorizer\n",
    "from sklearn.naive_bayes import MultinomialNB"
   ]
  },
  {
   "cell_type": "code",
   "execution_count": 98,
   "id": "cd6a2b00",
   "metadata": {},
   "outputs": [],
   "source": [
    "vec = TfidfVectorizer()\n",
    "X_train_vec = vec.fit_transform(X_train)\n",
    "X_test_vec = vec.transform(X_test)"
   ]
  },
  {
   "cell_type": "code",
   "execution_count": 99,
   "id": "ebb722fb",
   "metadata": {},
   "outputs": [
    {
     "data": {
      "text/plain": [
       "MultinomialNB()"
      ]
     },
     "execution_count": 99,
     "metadata": {},
     "output_type": "execute_result"
    }
   ],
   "source": [
    "model = MultinomialNB()\n",
    "model.fit(X_train_vec,y_train)"
   ]
  },
  {
   "cell_type": "code",
   "execution_count": 100,
   "id": "4ed0f381",
   "metadata": {},
   "outputs": [],
   "source": [
    "y_pred = model.predict(X_test_vec)"
   ]
  },
  {
   "cell_type": "code",
   "execution_count": 101,
   "id": "5faeca20",
   "metadata": {},
   "outputs": [],
   "source": [
    "from sklearn.metrics import accuracy_score"
   ]
  },
  {
   "cell_type": "code",
   "execution_count": 102,
   "id": "61153b6b",
   "metadata": {},
   "outputs": [
    {
     "data": {
      "text/plain": [
       "0.4353747473859942"
      ]
     },
     "execution_count": 102,
     "metadata": {},
     "output_type": "execute_result"
    }
   ],
   "source": [
    "accuracy_score(y_test,y_pred)"
   ]
  },
  {
   "cell_type": "code",
   "execution_count": 104,
   "id": "0606fcc6",
   "metadata": {},
   "outputs": [
    {
     "name": "stdout",
     "output_type": "stream",
     "text": [
      "Enter text: I'm feeeling lonely\n"
     ]
    },
    {
     "data": {
      "text/plain": [
       "'sadness'"
      ]
     },
     "execution_count": 104,
     "metadata": {},
     "output_type": "execute_result"
    }
   ],
   "source": [
    "model.predict(vec.transform((input(\"Enter text: \"),)))[0]"
   ]
  },
  {
   "cell_type": "code",
   "execution_count": null,
   "id": "6523308e",
   "metadata": {},
   "outputs": [],
   "source": []
  }
 ],
 "metadata": {
  "kernelspec": {
   "display_name": "Python 3 (ipykernel)",
   "language": "python",
   "name": "python3"
  },
  "language_info": {
   "codemirror_mode": {
    "name": "ipython",
    "version": 3
   },
   "file_extension": ".py",
   "mimetype": "text/x-python",
   "name": "python",
   "nbconvert_exporter": "python",
   "pygments_lexer": "ipython3",
   "version": "3.9.12"
  }
 },
 "nbformat": 4,
 "nbformat_minor": 5
}
