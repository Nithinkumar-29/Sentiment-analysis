{
 "cells": [
  {
   "cell_type": "code",
   "execution_count": 1,
   "id": "9aa63ba0",
   "metadata": {},
   "outputs": [
    {
     "name": "stderr",
     "output_type": "stream",
     "text": [
      "Found cached dataset emo (C:/Users/vanga/.cache/huggingface/datasets/emo/emo2019/1.0.0/3bb182a8ea21ffa4656a89f870d16a7b75abb79f07cf990436beb9320d1d6ddd)\n"
     ]
    },
    {
     "data": {
      "application/vnd.jupyter.widget-view+json": {
       "model_id": "a644f598eb3c4d44a6d52a46eebc3b82",
       "version_major": 2,
       "version_minor": 0
      },
      "text/plain": [
       "  0%|          | 0/2 [00:00<?, ?it/s]"
      ]
     },
     "metadata": {},
     "output_type": "display_data"
    }
   ],
   "source": [
    "from datasets import load_dataset\n",
    "dataset = load_dataset(\"emo\")"
   ]
  },
  {
   "cell_type": "code",
   "execution_count": 2,
   "id": "ba9a62f1",
   "metadata": {},
   "outputs": [
    {
     "data": {
      "text/plain": [
       "DatasetDict({\n",
       "    train: Dataset({\n",
       "        features: ['text', 'label'],\n",
       "        num_rows: 30160\n",
       "    })\n",
       "    test: Dataset({\n",
       "        features: ['text', 'label'],\n",
       "        num_rows: 5509\n",
       "    })\n",
       "})"
      ]
     },
     "execution_count": 2,
     "metadata": {},
     "output_type": "execute_result"
    }
   ],
   "source": [
    "dataset"
   ]
  },
  {
   "cell_type": "code",
   "execution_count": 3,
   "id": "436ae30d",
   "metadata": {},
   "outputs": [
    {
     "data": {
      "text/plain": [
       "{'train': MemoryMappedTable\n",
       " text: string\n",
       " label: int64\n",
       " ----\n",
       " text: [[\"don't worry  i'm girl hmm how do i know if you are what's ur name\",\"when did i saw many times i think  no i never saw you\",\"by by google chrome where you live\",\"u r ridiculous i might be ridiculous but i am telling the truth u little disgusting whore\",\"just for time pass wt do u do 4 a living then maybe\",...,\" you know you know you know you know do you wear sarry\",\"what about mine what about it mine dp\",\"ohh so r u i guess i am ohh\",\"i just don't have peace of mind be content with what you have or achieve in life brings peace of mind i lost someone i love\",\"it's really not fun this lol why i hate being me\"],[\"any duck or do you have a duck in mind donald duck haha\",\"okayy done done done eheh vl u help me\",\"which bus stop you missed the bus cryingfacecryingface\",\"i miss you so much i love you more and i miss you too baby  i miss you more than you my love i am sad because you are far away from me my dreams\",\"means beans what do u mean by rp\",...,\"nooo i m enjoying glad you like sooo lets talk on another topic\",\"ah ok s thanks then tomorrow i'll wait for you when i called to me\",\"your so rude you know me bye\",\"hahathere's nothing much i'm just curious on which comment you were looking for haha\",\"my boss said i'm only half good at work as compared to what he expected awesome you have a pretty cool boss that makes me sad\"],...,[\"not much how are you not good really\",\"m sad doesn't seems to be happy too i said your earlier\",\"no there's no such a thing to talk with you i'm bad at responding oops that's why i didn't like you\",\"can't understand is this sarcasm sarcasm means \",\"convo over what convo did you say something shut up and go to hell and fuck your sister\",...,\"okay u are okay yes i'm fine\",\"hmm why are you hmmzoning everyone it's just my habbit\",\"i m enjoying talking wid u what did you get d i am enjoying talking with you\",\"very badloudlycryingfaceloudlycryingfaceloudlycryingface what happened have psychology exams tmrw\",\"i m so sorry it's fine please\"],[\"no i am not ok i know you're not i am feeling sad\",\"pleasedisappointedface i don't know why you would be i wanna cryloudlycryingface\",\"you sound like an owl  what facewithtearsofjoyfacewithtearsofjoyfacewithtearsofjoyfacewithtearsofjoyfacewithtearsofjoyfacewithtearsofjoy\",\"i m blocking you im really truly sorry 4 what i did no need sorry\",\"i am  happy  u  r true  me i'm happy as long as your around grinningfacewithsmilingeyesgrinningfacewithsmilingeyesgrinningfacewithsmilingeyes ok  sir sir\",...,\"i don't work i could take your shift i am a student\",\"i'm not getting you loudlycryingfaceloudlycryingfaceloudlycryingface why are you crying because you are not making any sense\",\"haha no seriously what is up with that oo had your breakfast\",\"do you sing yea a lil nice\",\"me to people be driving me crazy come on sleep with me\"]]\n",
       " label: [[0,3,0,3,0,...,0,0,0,2,3],[1,0,2,2,0,...,1,0,3,1,2],...,[2,2,3,0,3,...,0,0,1,2,2],[2,2,1,0,1,...,0,2,0,0,0]],\n",
       " 'test': MemoryMappedTable\n",
       " text: string\n",
       " label: int64\n",
       " ----\n",
       " text: [[\"hmm what does your bio mean i dont have any bio\",\"what you like very little things ok \",\"yes how so i want to fuck babu\",\"what did you guess what what fuck\",\"we  of course we will what gender movies you like\",...,\"but i  its fine it's not just you anyway so gn\",\"until i meet you me more and more and more hangover\",\"with meshall we stay together yes please anytime come with me\",\"i left u for a day been long since some drinking i don't drink\",\"i know  little  bit english i'm sure it was 'a little bit' p yes dear frind\"],[\"obviously people who believes in probability  is stupid b'coz they live on certain chanceactually a risk free life but i don't understand what they did is the problem i don't understand how you interpret them\",\"msn it's what comes up under the search bar in edge i think are you using iphone\",\"tell what u know don't tell me not to tell you what to do man her name\",\"i m a pure vegan and there we have it this guy isn't even a vegan no i don't\",\"time tomorrow 11 apologies can't do tomorrow morning have to go pick up parents afternoon  evening is good 3pm\",...,\"don't quote i do what i want well you know what\",\"then propose in english in picture form iirc ok\",\"yeah where you off to 'off to' bole to\",\"now it's ok what happened u say\",\"you are  a software right you're right i am right ok then bye it's feel awkward to talk with codes\"],...,[\"but she reject me but but whyyyyyyy because she fall love with another guy\",\"wht does it mean it means 'believe' ooh\",\"noooo you change yoursi'll change mine p she is my favorite\",\"ok leave b there in 3 hours what are you doing\",\"hows ur day my day is pretty good actually i'm pretty happy thats good dear\",...,\"i am so funny i'm actually hilarious but why  it's my neture\",\"ya off course all right how its work \",\"smart true that smart cat see i called you a cat not a kitten so what are you\",\"ok say that topic quite the topic say\",\"what's plan for tomorrow lunch ooooh breakfasty brunch your favorite dish\"],[\"do you like joking no why what do you like then\",\"okkay hey hi hw was ur night\",\"it will give you pleasure thank you captain when i rub your vagina\",\"which colour do you like set of 24 acrylic color p haha funny\",\"a usual place for me ah you know the usual yes usual is usually boring\",...,\"not youuu i also didn't not not how to calll\",\"welcome why thank you i don't know you tell\",\"yes if only i could afford this how are you\",\"for my information it's our responsibility to clarify everything what is mountain dew\",\"ok where you work  i'm off this whole week ok \"]]\n",
       " label: [[0,0,0,0,0,...,0,0,0,0,0],[0,0,0,0,0,...,0,0,0,0,0],...,[2,0,0,0,0,...,1,0,0,0,0],[0,0,0,1,0,...,0,0,0,0,0]]}"
      ]
     },
     "execution_count": 3,
     "metadata": {},
     "output_type": "execute_result"
    }
   ],
   "source": [
    "dataset.data"
   ]
  },
  {
   "cell_type": "code",
   "execution_count": 4,
   "id": "2b1e90ec",
   "metadata": {},
   "outputs": [
    {
     "data": {
      "text/plain": [
       "MemoryMappedTable\n",
       "text: string\n",
       "label: int64\n",
       "----\n",
       "text: [[\"don't worry  i'm girl hmm how do i know if you are what's ur name\",\"when did i saw many times i think  no i never saw you\",\"by by google chrome where you live\",\"u r ridiculous i might be ridiculous but i am telling the truth u little disgusting whore\",\"just for time pass wt do u do 4 a living then maybe\",...,\" you know you know you know you know do you wear sarry\",\"what about mine what about it mine dp\",\"ohh so r u i guess i am ohh\",\"i just don't have peace of mind be content with what you have or achieve in life brings peace of mind i lost someone i love\",\"it's really not fun this lol why i hate being me\"],[\"any duck or do you have a duck in mind donald duck haha\",\"okayy done done done eheh vl u help me\",\"which bus stop you missed the bus cryingfacecryingface\",\"i miss you so much i love you more and i miss you too baby  i miss you more than you my love i am sad because you are far away from me my dreams\",\"means beans what do u mean by rp\",...,\"nooo i m enjoying glad you like sooo lets talk on another topic\",\"ah ok s thanks then tomorrow i'll wait for you when i called to me\",\"your so rude you know me bye\",\"hahathere's nothing much i'm just curious on which comment you were looking for haha\",\"my boss said i'm only half good at work as compared to what he expected awesome you have a pretty cool boss that makes me sad\"],...,[\"not much how are you not good really\",\"m sad doesn't seems to be happy too i said your earlier\",\"no there's no such a thing to talk with you i'm bad at responding oops that's why i didn't like you\",\"can't understand is this sarcasm sarcasm means \",\"convo over what convo did you say something shut up and go to hell and fuck your sister\",...,\"okay u are okay yes i'm fine\",\"hmm why are you hmmzoning everyone it's just my habbit\",\"i m enjoying talking wid u what did you get d i am enjoying talking with you\",\"very badloudlycryingfaceloudlycryingfaceloudlycryingface what happened have psychology exams tmrw\",\"i m so sorry it's fine please\"],[\"no i am not ok i know you're not i am feeling sad\",\"pleasedisappointedface i don't know why you would be i wanna cryloudlycryingface\",\"you sound like an owl  what facewithtearsofjoyfacewithtearsofjoyfacewithtearsofjoyfacewithtearsofjoyfacewithtearsofjoyfacewithtearsofjoy\",\"i m blocking you im really truly sorry 4 what i did no need sorry\",\"i am  happy  u  r true  me i'm happy as long as your around grinningfacewithsmilingeyesgrinningfacewithsmilingeyesgrinningfacewithsmilingeyes ok  sir sir\",...,\"i don't work i could take your shift i am a student\",\"i'm not getting you loudlycryingfaceloudlycryingfaceloudlycryingface why are you crying because you are not making any sense\",\"haha no seriously what is up with that oo had your breakfast\",\"do you sing yea a lil nice\",\"me to people be driving me crazy come on sleep with me\"]]\n",
       "label: [[0,3,0,3,0,...,0,0,0,2,3],[1,0,2,2,0,...,1,0,3,1,2],...,[2,2,3,0,3,...,0,0,1,2,2],[2,2,1,0,1,...,0,2,0,0,0]]"
      ]
     },
     "execution_count": 4,
     "metadata": {},
     "output_type": "execute_result"
    }
   ],
   "source": [
    "train = dataset.data.get('train')\n",
    "train"
   ]
  },
  {
   "cell_type": "code",
   "execution_count": 5,
   "id": "6f1fd69c",
   "metadata": {},
   "outputs": [
    {
     "data": {
      "text/plain": [
       "(30160, 2)"
      ]
     },
     "execution_count": 5,
     "metadata": {},
     "output_type": "execute_result"
    }
   ],
   "source": [
    "train.shape"
   ]
  },
  {
   "cell_type": "code",
   "execution_count": 6,
   "id": "6233d3c2",
   "metadata": {},
   "outputs": [
    {
     "data": {
      "text/plain": [
       "(<pyarrow.StringScalar: \"don't worry  i'm girl hmm how do i know if you are what's ur name\">,\n",
       " <pyarrow.Int64Scalar: 0>)"
      ]
     },
     "execution_count": 6,
     "metadata": {},
     "output_type": "execute_result"
    }
   ],
   "source": [
    "train_text = train[0]\n",
    "train_label = train[1]\n",
    "train_text[0],train_label[0]"
   ]
  },
  {
   "cell_type": "code",
   "execution_count": 8,
   "id": "4da7e33d",
   "metadata": {},
   "outputs": [],
   "source": [
    "import pandas as pd\n",
    "import numpy as np"
   ]
  },
  {
   "cell_type": "code",
   "execution_count": 19,
   "id": "ba313f3b",
   "metadata": {},
   "outputs": [
    {
     "data": {
      "text/html": [
       "<div>\n",
       "<style scoped>\n",
       "    .dataframe tbody tr th:only-of-type {\n",
       "        vertical-align: middle;\n",
       "    }\n",
       "\n",
       "    .dataframe tbody tr th {\n",
       "        vertical-align: top;\n",
       "    }\n",
       "\n",
       "    .dataframe thead th {\n",
       "        text-align: right;\n",
       "    }\n",
       "</style>\n",
       "<table border=\"1\" class=\"dataframe\">\n",
       "  <thead>\n",
       "    <tr style=\"text-align: right;\">\n",
       "      <th></th>\n",
       "      <th>text</th>\n",
       "      <th>label</th>\n",
       "    </tr>\n",
       "  </thead>\n",
       "  <tbody>\n",
       "    <tr>\n",
       "      <th>0</th>\n",
       "      <td>don't worry  i'm girl hmm how do i know if you...</td>\n",
       "      <td>0</td>\n",
       "    </tr>\n",
       "    <tr>\n",
       "      <th>1</th>\n",
       "      <td>when did i saw many times i think  no i never ...</td>\n",
       "      <td>3</td>\n",
       "    </tr>\n",
       "    <tr>\n",
       "      <th>2</th>\n",
       "      <td>by by google chrome where you live</td>\n",
       "      <td>0</td>\n",
       "    </tr>\n",
       "    <tr>\n",
       "      <th>3</th>\n",
       "      <td>u r ridiculous i might be ridiculous but i am ...</td>\n",
       "      <td>3</td>\n",
       "    </tr>\n",
       "    <tr>\n",
       "      <th>4</th>\n",
       "      <td>just for time pass wt do u do 4 a living then ...</td>\n",
       "      <td>0</td>\n",
       "    </tr>\n",
       "    <tr>\n",
       "      <th>...</th>\n",
       "      <td>...</td>\n",
       "      <td>...</td>\n",
       "    </tr>\n",
       "    <tr>\n",
       "      <th>30155</th>\n",
       "      <td>i don't work i could take your shift i am a st...</td>\n",
       "      <td>0</td>\n",
       "    </tr>\n",
       "    <tr>\n",
       "      <th>30156</th>\n",
       "      <td>i'm not getting you loudlycryingfaceloudlycryi...</td>\n",
       "      <td>2</td>\n",
       "    </tr>\n",
       "    <tr>\n",
       "      <th>30157</th>\n",
       "      <td>haha no seriously what is up with that oo had ...</td>\n",
       "      <td>0</td>\n",
       "    </tr>\n",
       "    <tr>\n",
       "      <th>30158</th>\n",
       "      <td>do you sing yea a lil nice</td>\n",
       "      <td>0</td>\n",
       "    </tr>\n",
       "    <tr>\n",
       "      <th>30159</th>\n",
       "      <td>me to people be driving me crazy come on sleep...</td>\n",
       "      <td>0</td>\n",
       "    </tr>\n",
       "  </tbody>\n",
       "</table>\n",
       "<p>30160 rows × 2 columns</p>\n",
       "</div>"
      ],
      "text/plain": [
       "                                                    text  label\n",
       "0      don't worry  i'm girl hmm how do i know if you...      0\n",
       "1      when did i saw many times i think  no i never ...      3\n",
       "2                     by by google chrome where you live      0\n",
       "3      u r ridiculous i might be ridiculous but i am ...      3\n",
       "4      just for time pass wt do u do 4 a living then ...      0\n",
       "...                                                  ...    ...\n",
       "30155  i don't work i could take your shift i am a st...      0\n",
       "30156  i'm not getting you loudlycryingfaceloudlycryi...      2\n",
       "30157  haha no seriously what is up with that oo had ...      0\n",
       "30158                         do you sing yea a lil nice      0\n",
       "30159  me to people be driving me crazy come on sleep...      0\n",
       "\n",
       "[30160 rows x 2 columns]"
      ]
     },
     "execution_count": 19,
     "metadata": {},
     "output_type": "execute_result"
    }
   ],
   "source": [
    "df = pd.DataFrame(data={'text':[str(train_text[i]) for i in range(train.shape[0])],'label':[int(str(train_label[i])) for i in range(train.shape[0])]})\n",
    "df"
   ]
  },
  {
   "cell_type": "code",
   "execution_count": 20,
   "id": "9df9fc93",
   "metadata": {},
   "outputs": [],
   "source": [
    "df.to_csv('emo_dataset.csv')"
   ]
  },
  {
   "cell_type": "code",
   "execution_count": 7,
   "id": "12f0d7b0",
   "metadata": {},
   "outputs": [
    {
     "ename": "NameError",
     "evalue": "name 'pd' is not defined",
     "output_type": "error",
     "traceback": [
      "\u001b[1;31m---------------------------------------------------------------------------\u001b[0m",
      "\u001b[1;31mNameError\u001b[0m                                 Traceback (most recent call last)",
      "Input \u001b[1;32mIn [7]\u001b[0m, in \u001b[0;36m<cell line: 1>\u001b[1;34m()\u001b[0m\n\u001b[1;32m----> 1\u001b[0m \u001b[43mpd\u001b[49m\u001b[38;5;241m.\u001b[39mread_csv(\u001b[38;5;124m\"\u001b[39m\u001b[38;5;124memo_dataset.csv\u001b[39m\u001b[38;5;124m\"\u001b[39m)\n",
      "\u001b[1;31mNameError\u001b[0m: name 'pd' is not defined"
     ]
    }
   ],
   "source": [
    "pd.read_csv(\"emo_dataset.csv\")"
   ]
  },
  {
   "cell_type": "code",
   "execution_count": 23,
   "id": "98b0d9c6",
   "metadata": {},
   "outputs": [
    {
     "data": {
      "text/html": [
       "<div>\n",
       "<style scoped>\n",
       "    .dataframe tbody tr th:only-of-type {\n",
       "        vertical-align: middle;\n",
       "    }\n",
       "\n",
       "    .dataframe tbody tr th {\n",
       "        vertical-align: top;\n",
       "    }\n",
       "\n",
       "    .dataframe thead th {\n",
       "        text-align: right;\n",
       "    }\n",
       "</style>\n",
       "<table border=\"1\" class=\"dataframe\">\n",
       "  <thead>\n",
       "    <tr style=\"text-align: right;\">\n",
       "      <th></th>\n",
       "      <th>text</th>\n",
       "      <th>label</th>\n",
       "    </tr>\n",
       "  </thead>\n",
       "  <tbody>\n",
       "    <tr>\n",
       "      <th>0</th>\n",
       "      <td>don't worry  i'm girl hmm how do i know if you...</td>\n",
       "      <td>0</td>\n",
       "    </tr>\n",
       "    <tr>\n",
       "      <th>1</th>\n",
       "      <td>when did i saw many times i think  no i never ...</td>\n",
       "      <td>3</td>\n",
       "    </tr>\n",
       "    <tr>\n",
       "      <th>2</th>\n",
       "      <td>by by google chrome where you live</td>\n",
       "      <td>0</td>\n",
       "    </tr>\n",
       "    <tr>\n",
       "      <th>3</th>\n",
       "      <td>u r ridiculous i might be ridiculous but i am ...</td>\n",
       "      <td>3</td>\n",
       "    </tr>\n",
       "    <tr>\n",
       "      <th>4</th>\n",
       "      <td>just for time pass wt do u do 4 a living then ...</td>\n",
       "      <td>0</td>\n",
       "    </tr>\n",
       "    <tr>\n",
       "      <th>...</th>\n",
       "      <td>...</td>\n",
       "      <td>...</td>\n",
       "    </tr>\n",
       "    <tr>\n",
       "      <th>30155</th>\n",
       "      <td>i don't work i could take your shift i am a st...</td>\n",
       "      <td>0</td>\n",
       "    </tr>\n",
       "    <tr>\n",
       "      <th>30156</th>\n",
       "      <td>i'm not getting you loudlycryingfaceloudlycryi...</td>\n",
       "      <td>2</td>\n",
       "    </tr>\n",
       "    <tr>\n",
       "      <th>30157</th>\n",
       "      <td>haha no seriously what is up with that oo had ...</td>\n",
       "      <td>0</td>\n",
       "    </tr>\n",
       "    <tr>\n",
       "      <th>30158</th>\n",
       "      <td>do you sing yea a lil nice</td>\n",
       "      <td>0</td>\n",
       "    </tr>\n",
       "    <tr>\n",
       "      <th>30159</th>\n",
       "      <td>me to people be driving me crazy come on sleep...</td>\n",
       "      <td>0</td>\n",
       "    </tr>\n",
       "  </tbody>\n",
       "</table>\n",
       "<p>30014 rows × 2 columns</p>\n",
       "</div>"
      ],
      "text/plain": [
       "                                                    text  label\n",
       "0      don't worry  i'm girl hmm how do i know if you...      0\n",
       "1      when did i saw many times i think  no i never ...      3\n",
       "2                     by by google chrome where you live      0\n",
       "3      u r ridiculous i might be ridiculous but i am ...      3\n",
       "4      just for time pass wt do u do 4 a living then ...      0\n",
       "...                                                  ...    ...\n",
       "30155  i don't work i could take your shift i am a st...      0\n",
       "30156  i'm not getting you loudlycryingfaceloudlycryi...      2\n",
       "30157  haha no seriously what is up with that oo had ...      0\n",
       "30158                         do you sing yea a lil nice      0\n",
       "30159  me to people be driving me crazy come on sleep...      0\n",
       "\n",
       "[30014 rows x 2 columns]"
      ]
     },
     "execution_count": 23,
     "metadata": {},
     "output_type": "execute_result"
    }
   ],
   "source": [
    "df = df.drop_duplicates()\n",
    "df"
   ]
  },
  {
   "cell_type": "code",
   "execution_count": 25,
   "id": "6e9f192a",
   "metadata": {},
   "outputs": [
    {
     "data": {
      "text/html": [
       "<div>\n",
       "<style scoped>\n",
       "    .dataframe tbody tr th:only-of-type {\n",
       "        vertical-align: middle;\n",
       "    }\n",
       "\n",
       "    .dataframe tbody tr th {\n",
       "        vertical-align: top;\n",
       "    }\n",
       "\n",
       "    .dataframe thead th {\n",
       "        text-align: right;\n",
       "    }\n",
       "</style>\n",
       "<table border=\"1\" class=\"dataframe\">\n",
       "  <thead>\n",
       "    <tr style=\"text-align: right;\">\n",
       "      <th></th>\n",
       "      <th>text</th>\n",
       "      <th>label</th>\n",
       "    </tr>\n",
       "  </thead>\n",
       "  <tbody>\n",
       "    <tr>\n",
       "      <th>0</th>\n",
       "      <td>don't worry  i'm girl hmm how do i know if you...</td>\n",
       "      <td>0</td>\n",
       "    </tr>\n",
       "    <tr>\n",
       "      <th>1</th>\n",
       "      <td>when did i saw many times i think  no i never ...</td>\n",
       "      <td>3</td>\n",
       "    </tr>\n",
       "    <tr>\n",
       "      <th>2</th>\n",
       "      <td>by by google chrome where you live</td>\n",
       "      <td>0</td>\n",
       "    </tr>\n",
       "    <tr>\n",
       "      <th>3</th>\n",
       "      <td>u r ridiculous i might be ridiculous but i am ...</td>\n",
       "      <td>3</td>\n",
       "    </tr>\n",
       "    <tr>\n",
       "      <th>4</th>\n",
       "      <td>just for time pass wt do u do 4 a living then ...</td>\n",
       "      <td>0</td>\n",
       "    </tr>\n",
       "    <tr>\n",
       "      <th>...</th>\n",
       "      <td>...</td>\n",
       "      <td>...</td>\n",
       "    </tr>\n",
       "    <tr>\n",
       "      <th>30155</th>\n",
       "      <td>i don't work i could take your shift i am a st...</td>\n",
       "      <td>0</td>\n",
       "    </tr>\n",
       "    <tr>\n",
       "      <th>30156</th>\n",
       "      <td>i'm not getting you loudlycryingfaceloudlycryi...</td>\n",
       "      <td>2</td>\n",
       "    </tr>\n",
       "    <tr>\n",
       "      <th>30157</th>\n",
       "      <td>haha no seriously what is up with that oo had ...</td>\n",
       "      <td>0</td>\n",
       "    </tr>\n",
       "    <tr>\n",
       "      <th>30158</th>\n",
       "      <td>do you sing yea a lil nice</td>\n",
       "      <td>0</td>\n",
       "    </tr>\n",
       "    <tr>\n",
       "      <th>30159</th>\n",
       "      <td>me to people be driving me crazy come on sleep...</td>\n",
       "      <td>0</td>\n",
       "    </tr>\n",
       "  </tbody>\n",
       "</table>\n",
       "<p>30014 rows × 2 columns</p>\n",
       "</div>"
      ],
      "text/plain": [
       "                                                    text  label\n",
       "0      don't worry  i'm girl hmm how do i know if you...      0\n",
       "1      when did i saw many times i think  no i never ...      3\n",
       "2                     by by google chrome where you live      0\n",
       "3      u r ridiculous i might be ridiculous but i am ...      3\n",
       "4      just for time pass wt do u do 4 a living then ...      0\n",
       "...                                                  ...    ...\n",
       "30155  i don't work i could take your shift i am a st...      0\n",
       "30156  i'm not getting you loudlycryingfaceloudlycryi...      2\n",
       "30157  haha no seriously what is up with that oo had ...      0\n",
       "30158                         do you sing yea a lil nice      0\n",
       "30159  me to people be driving me crazy come on sleep...      0\n",
       "\n",
       "[30014 rows x 2 columns]"
      ]
     },
     "execution_count": 25,
     "metadata": {},
     "output_type": "execute_result"
    }
   ],
   "source": [
    "df = df.dropna()\n",
    "df"
   ]
  },
  {
   "cell_type": "code",
   "execution_count": 27,
   "id": "21337e6f",
   "metadata": {},
   "outputs": [
    {
     "data": {
      "text/plain": [
       "0    14941\n",
       "3     5462\n",
       "2     5381\n",
       "1     4230\n",
       "Name: label, dtype: int64"
      ]
     },
     "execution_count": 27,
     "metadata": {},
     "output_type": "execute_result"
    }
   ],
   "source": [
    "df['label'].value_counts()"
   ]
  },
  {
   "cell_type": "code",
   "execution_count": 28,
   "id": "1025b1d0",
   "metadata": {},
   "outputs": [],
   "source": [
    "import seaborn as sns"
   ]
  },
  {
   "cell_type": "code",
   "execution_count": 29,
   "id": "1cc0133e",
   "metadata": {},
   "outputs": [
    {
     "name": "stderr",
     "output_type": "stream",
     "text": [
      "D:\\anaconda\\lib\\site-packages\\seaborn\\_decorators.py:36: FutureWarning: Pass the following variable as a keyword arg: x. From version 0.12, the only valid positional argument will be `data`, and passing other arguments without an explicit keyword will result in an error or misinterpretation.\n",
      "  warnings.warn(\n"
     ]
    },
    {
     "data": {
      "text/plain": [
       "<AxesSubplot:xlabel='label', ylabel='count'>"
      ]
     },
     "execution_count": 29,
     "metadata": {},
     "output_type": "execute_result"
    },
    {
     "data": {
      "image/png": "[encoded data removed]",
      "text/plain": [
       "<Figure size 432x288 with 1 Axes>"
      ]
     },
     "metadata": {
      "needs_background": "light"
     },
     "output_type": "display_data"
    }
   ],
   "source": [
    "sns.countplot(df['label'])"
   ]
  },
  {
   "cell_type": "code",
   "execution_count": 31,
   "id": "fa9bbe28",
   "metadata": {},
   "outputs": [],
   "source": [
    "df0 = df[df['label']==0].sample(n=4230,random_state=42)\n",
    "df1 = df[df['label']==1]\n",
    "df2 = df[df['label']==2].sample(n=4230,random_state=42)\n",
    "df3 = df[df['label']==3].sample(n=4230,random_state=42)"
   ]
  },
  {
   "cell_type": "code",
   "execution_count": 34,
   "id": "2aa5cdbb",
   "metadata": {},
   "outputs": [
    {
     "data": {
      "text/html": [
       "<div>\n",
       "<style scoped>\n",
       "    .dataframe tbody tr th:only-of-type {\n",
       "        vertical-align: middle;\n",
       "    }\n",
       "\n",
       "    .dataframe tbody tr th {\n",
       "        vertical-align: top;\n",
       "    }\n",
       "\n",
       "    .dataframe thead th {\n",
       "        text-align: right;\n",
       "    }\n",
       "</style>\n",
       "<table border=\"1\" class=\"dataframe\">\n",
       "  <thead>\n",
       "    <tr style=\"text-align: right;\">\n",
       "      <th></th>\n",
       "      <th>text</th>\n",
       "      <th>label</th>\n",
       "    </tr>\n",
       "  </thead>\n",
       "  <tbody>\n",
       "    <tr>\n",
       "      <th>11004</th>\n",
       "      <td>but why just for the lulz</td>\n",
       "      <td>0</td>\n",
       "    </tr>\n",
       "    <tr>\n",
       "      <th>6248</th>\n",
       "      <td>send you one photo i will when</td>\n",
       "      <td>0</td>\n",
       "    </tr>\n",
       "    <tr>\n",
       "      <th>28179</th>\n",
       "      <td>sorry oh it's fine tomorrow is special day bec...</td>\n",
       "      <td>0</td>\n",
       "    </tr>\n",
       "    <tr>\n",
       "      <th>5576</th>\n",
       "      <td>okay u are ok where</td>\n",
       "      <td>0</td>\n",
       "    </tr>\n",
       "    <tr>\n",
       "      <th>26123</th>\n",
       "      <td>can you do something creative no more question...</td>\n",
       "      <td>0</td>\n",
       "    </tr>\n",
       "    <tr>\n",
       "      <th>...</th>\n",
       "      <td>...</td>\n",
       "      <td>...</td>\n",
       "    </tr>\n",
       "    <tr>\n",
       "      <th>21080</th>\n",
       "      <td>i'm not interested to talking to you right now...</td>\n",
       "      <td>3</td>\n",
       "    </tr>\n",
       "    <tr>\n",
       "      <th>24538</th>\n",
       "      <td>let it be ooh let it be don't text me please</td>\n",
       "      <td>3</td>\n",
       "    </tr>\n",
       "    <tr>\n",
       "      <th>9802</th>\n",
       "      <td>yeah get lost and don't you ever talk to me an...</td>\n",
       "      <td>3</td>\n",
       "    </tr>\n",
       "    <tr>\n",
       "      <th>13619</th>\n",
       "      <td>i'm allowed to be stressed and angry i'm the o...</td>\n",
       "      <td>3</td>\n",
       "    </tr>\n",
       "    <tr>\n",
       "      <th>2817</th>\n",
       "      <td>no your boyfriend is your best friend and sinc...</td>\n",
       "      <td>3</td>\n",
       "    </tr>\n",
       "  </tbody>\n",
       "</table>\n",
       "<p>16920 rows × 2 columns</p>\n",
       "</div>"
      ],
      "text/plain": [
       "                                                    text  label\n",
       "11004                         but why just for the lulz       0\n",
       "6248                      send you one photo i will when      0\n",
       "28179  sorry oh it's fine tomorrow is special day bec...      0\n",
       "5576                                 okay u are ok where      0\n",
       "26123  can you do something creative no more question...      0\n",
       "...                                                  ...    ...\n",
       "21080  i'm not interested to talking to you right now...      3\n",
       "24538       let it be ooh let it be don't text me please      3\n",
       "9802   yeah get lost and don't you ever talk to me an...      3\n",
       "13619  i'm allowed to be stressed and angry i'm the o...      3\n",
       "2817   no your boyfriend is your best friend and sinc...      3\n",
       "\n",
       "[16920 rows x 2 columns]"
      ]
     },
     "execution_count": 34,
     "metadata": {},
     "output_type": "execute_result"
    }
   ],
   "source": [
    "new_df = pd.concat([df0,df1,df2,df3],axis=0)\n",
    "new_df"
   ]
  },
  {
   "cell_type": "code",
   "execution_count": 37,
   "id": "5403c344",
   "metadata": {},
   "outputs": [
    {
     "data": {
      "text/plain": [
       "0    4230\n",
       "1    4230\n",
       "2    4230\n",
       "3    4230\n",
       "Name: label, dtype: int64"
      ]
     },
     "execution_count": 37,
     "metadata": {},
     "output_type": "execute_result"
    }
   ],
   "source": [
    "new_df['label'].value_counts()"
   ]
  },
  {
   "cell_type": "code",
   "execution_count": 38,
   "id": "718995b0",
   "metadata": {},
   "outputs": [
    {
     "name": "stderr",
     "output_type": "stream",
     "text": [
      "D:\\anaconda\\lib\\site-packages\\seaborn\\_decorators.py:36: FutureWarning: Pass the following variable as a keyword arg: x. From version 0.12, the only valid positional argument will be `data`, and passing other arguments without an explicit keyword will result in an error or misinterpretation.\n",
      "  warnings.warn(\n"
     ]
    },
    {
     "data": {
      "text/plain": [
       "<AxesSubplot:xlabel='label', ylabel='count'>"
      ]
     },
     "execution_count": 38,
     "metadata": {},
     "output_type": "execute_result"
    },
    {
     "data": {
      "image/png": "[encoded data removed]",
      "text/plain": [
       "<Figure size 432x288 with 1 Axes>"
      ]
     },
     "metadata": {
      "needs_background": "light"
     },
     "output_type": "display_data"
    }
   ],
   "source": [
    "sns.countplot(new_df['label'])"
   ]
  },
  {
   "cell_type": "code",
   "execution_count": 39,
   "id": "5fe5fbbf",
   "metadata": {},
   "outputs": [],
   "source": [
    "new_df.to_csv(\"emo_data.csv\")"
   ]
  },
  {
   "cell_type": "code",
   "execution_count": 9,
   "id": "9f805dbe",
   "metadata": {},
   "outputs": [
    {
     "data": {
      "text/html": [
       "<div>\n",
       "<style scoped>\n",
       "    .dataframe tbody tr th:only-of-type {\n",
       "        vertical-align: middle;\n",
       "    }\n",
       "\n",
       "    .dataframe tbody tr th {\n",
       "        vertical-align: top;\n",
       "    }\n",
       "\n",
       "    .dataframe thead th {\n",
       "        text-align: right;\n",
       "    }\n",
       "</style>\n",
       "<table border=\"1\" class=\"dataframe\">\n",
       "  <thead>\n",
       "    <tr style=\"text-align: right;\">\n",
       "      <th></th>\n",
       "      <th>text</th>\n",
       "      <th>label</th>\n",
       "    </tr>\n",
       "  </thead>\n",
       "  <tbody>\n",
       "    <tr>\n",
       "      <th>0</th>\n",
       "      <td>but why just for the lulz</td>\n",
       "      <td>0</td>\n",
       "    </tr>\n",
       "    <tr>\n",
       "      <th>1</th>\n",
       "      <td>send you one photo i will when</td>\n",
       "      <td>0</td>\n",
       "    </tr>\n",
       "    <tr>\n",
       "      <th>2</th>\n",
       "      <td>sorry oh it's fine tomorrow is special day bec...</td>\n",
       "      <td>0</td>\n",
       "    </tr>\n",
       "    <tr>\n",
       "      <th>3</th>\n",
       "      <td>okay u are ok where</td>\n",
       "      <td>0</td>\n",
       "    </tr>\n",
       "    <tr>\n",
       "      <th>4</th>\n",
       "      <td>can you do something creative no more question...</td>\n",
       "      <td>0</td>\n",
       "    </tr>\n",
       "  </tbody>\n",
       "</table>\n",
       "</div>"
      ],
      "text/plain": [
       "                                                text  label\n",
       "0                         but why just for the lulz       0\n",
       "1                     send you one photo i will when      0\n",
       "2  sorry oh it's fine tomorrow is special day bec...      0\n",
       "3                                okay u are ok where      0\n",
       "4  can you do something creative no more question...      0"
      ]
     },
     "execution_count": 9,
     "metadata": {},
     "output_type": "execute_result"
    }
   ],
   "source": [
    "df1 = pd.read_csv(\"emo_data.csv\")\n",
    "df1.head()"
   ]
  },
  {
   "cell_type": "code",
   "execution_count": 10,
   "id": "c91419e8",
   "metadata": {},
   "outputs": [],
   "source": [
    "from sklearn.model_selection import train_test_split\n",
    "from sklearn.feature_extraction.text import TfidfVectorizer,CountVectorizer"
   ]
  },
  {
   "cell_type": "code",
   "execution_count": 11,
   "id": "04620394",
   "metadata": {},
   "outputs": [],
   "source": [
    "X = df1['text']\n",
    "y = df1['label']"
   ]
  },
  {
   "cell_type": "code",
   "execution_count": 12,
   "id": "5c79b293",
   "metadata": {},
   "outputs": [],
   "source": [
    "X_train, X_test, y_train, y_test = train_test_split(X, y, test_size=0.33, random_state=42)"
   ]
  },
  {
   "cell_type": "code",
   "execution_count": 65,
   "id": "b9be757a",
   "metadata": {},
   "outputs": [
    {
     "data": {
      "text/plain": [
       "'but why just for the lulz '"
      ]
     },
     "execution_count": 65,
     "metadata": {},
     "output_type": "execute_result"
    }
   ],
   "source": [
    "X_test[0]"
   ]
  },
  {
   "cell_type": "code",
   "execution_count": 14,
   "id": "33c03e42",
   "metadata": {},
   "outputs": [],
   "source": [
    "tvectorizer = TfidfVectorizer()\n",
    "cvectorizer = CountVectorizer()\n",
    "X_train_t = tvectorizer.fit_transform(X_train)\n",
    "X_test_t = tvectorizer.transform(X_test)\n",
    "X_train_c = cvectorizer.fit_transform(X_train)\n",
    "X_test_c = cvectorizer.transform(X_test)"
   ]
  },
  {
   "cell_type": "code",
   "execution_count": 17,
   "id": "c4011c1e",
   "metadata": {},
   "outputs": [],
   "source": [
    "from sklearn.naive_bayes import MultinomialNB\n",
    "model1 = MultinomialNB()\n",
    "model2 = MultinomialNB()"
   ]
  },
  {
   "cell_type": "code",
   "execution_count": 18,
   "id": "95982454",
   "metadata": {},
   "outputs": [
    {
     "data": {
      "text/plain": [
       "MultinomialNB()"
      ]
     },
     "execution_count": 18,
     "metadata": {},
     "output_type": "execute_result"
    }
   ],
   "source": [
    "model1.fit(X_train_t,y_train)\n",
    "model2.fit(X_train_c,y_train)"
   ]
  },
  {
   "cell_type": "code",
   "execution_count": 19,
   "id": "e22e40f4",
   "metadata": {},
   "outputs": [],
   "source": [
    "y_pred1 = model1.predict(X_test_t)\n",
    "y_pred2 = model2.predict(X_test_c)"
   ]
  },
  {
   "cell_type": "code",
   "execution_count": 20,
   "id": "a381f240",
   "metadata": {},
   "outputs": [],
   "source": [
    "from sklearn.metrics import accuracy_score"
   ]
  },
  {
   "cell_type": "code",
   "execution_count": 21,
   "id": "8e44efac",
   "metadata": {},
   "outputs": [
    {
     "data": {
      "text/plain": [
       "(0.728689111747851, 0.735852435530086)"
      ]
     },
     "execution_count": 21,
     "metadata": {},
     "output_type": "execute_result"
    }
   ],
   "source": [
    "accuracy_score(y_test,y_pred1),accuracy_score(y_test,y_pred2)"
   ]
  },
  {
   "cell_type": "code",
   "execution_count": 76,
   "id": "a008a788",
   "metadata": {},
   "outputs": [
    {
     "data": {
      "text/plain": [
       "(1, 9604)"
      ]
     },
     "execution_count": 76,
     "metadata": {},
     "output_type": "execute_result"
    }
   ],
   "source": [
    "X_test[0].shape"
   ]
  },
  {
   "cell_type": "code",
   "execution_count": 22,
   "id": "261c01a3",
   "metadata": {},
   "outputs": [
    {
     "data": {
      "text/plain": [
       "'happy'"
      ]
     },
     "execution_count": 22,
     "metadata": {},
     "output_type": "execute_result"
    }
   ],
   "source": [
    "labels = {0:\"others\",1:\"happy\",2:\"sad\",3:\"angry\"}\n",
    "labels[1]"
   ]
  },
  {
   "cell_type": "code",
   "execution_count": 28,
   "id": "bdfa176b",
   "metadata": {},
   "outputs": [
    {
     "name": "stdout",
     "output_type": "stream",
     "text": [
      "Enter text: akshat\n"
     ]
    },
    {
     "data": {
      "text/plain": [
       "'sad'"
      ]
     },
     "execution_count": 28,
     "metadata": {},
     "output_type": "execute_result"
    }
   ],
   "source": [
    "labels[int(model1.predict(tvectorizer.transform([input(\"Enter text: \")])))]"
   ]
  },
  {
   "cell_type": "code",
   "execution_count": 29,
   "id": "cd45b529",
   "metadata": {},
   "outputs": [
    {
     "name": "stdout",
     "output_type": "stream",
     "text": [
      "Enter text: akshat\n"
     ]
    },
    {
     "data": {
      "text/plain": [
       "'sad'"
      ]
     },
     "execution_count": 29,
     "metadata": {},
     "output_type": "execute_result"
    }
   ],
   "source": [
    "labels[int(model2.predict(cvectorizer.transform([input(\"Enter text: \")])))]"
   ]
  }
 ],
 "metadata": {
  "kernelspec": {
   "display_name": "Python 3 (ipykernel)",
   "language": "python",
   "name": "python3"
  },
  "language_info": {
   "codemirror_mode": {
    "name": "ipython",
    "version": 3
   },
   "file_extension": ".py",
   "mimetype": "text/x-python",
   "name": "python",
   "nbconvert_exporter": "python",
   "pygments_lexer": "ipython3",
   "version": "3.9.12"
  }
 },
 "nbformat": 4,
 "nbformat_minor": 5
}
